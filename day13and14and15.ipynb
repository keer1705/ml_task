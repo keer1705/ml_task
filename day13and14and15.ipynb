{
 "cells": [
  {
   "cell_type": "code",
   "execution_count": 2,
   "id": "efcb21c0-9603-410a-9bd8-8b95f34f64d9",
   "metadata": {},
   "outputs": [],
   "source": [
    "# DAY 13"
   ]
  },
  {
   "cell_type": "code",
   "execution_count": null,
   "id": "26aadaf3-4ee2-4e15-9daf-434810c0a14d",
   "metadata": {},
   "outputs": [],
   "source": [
    "# With one of the above mentioned dataset perform linear regression without importing it.\n",
    "# Linear regression should not be directly imported"
   ]
  },
  {
   "cell_type": "code",
   "execution_count": 3,
   "id": "c3301c7b-8a58-4cbe-a270-4c38f7a644ec",
   "metadata": {},
   "outputs": [],
   "source": [
    "import numpy as np \n",
    "import pandas as pd"
   ]
  },
  {
   "cell_type": "code",
   "execution_count": 4,
   "id": "5aa70593-e397-4f56-b4b0-03c53aa5f976",
   "metadata": {},
   "outputs": [
    {
     "name": "stdout",
     "output_type": "stream",
     "text": [
      "      CRIM    ZN  INDUS  CHAS    NOX     RM   AGE     DIS  RAD  TAX  PTRATIO  \\\n",
      "0  0.00632  18.0   2.31   0.0  0.538  6.575  65.2  4.0900    1  296     15.3   \n",
      "1  0.02731   0.0   7.07   0.0  0.469  6.421  78.9  4.9671    2  242     17.8   \n",
      "2  0.02729   0.0   7.07   0.0  0.469  7.185  61.1  4.9671    2  242     17.8   \n",
      "3  0.03237   0.0   2.18   0.0  0.458  6.998  45.8  6.0622    3  222     18.7   \n",
      "4  0.06905   0.0   2.18   0.0  0.458  7.147  54.2  6.0622    3  222     18.7   \n",
      "\n",
      "        B  LSTAT  MEDV  \n",
      "0  396.90   4.98  24.0  \n",
      "1  396.90   9.14  21.6  \n",
      "2  392.83   4.03  34.7  \n",
      "3  394.63   2.94  33.4  \n",
      "4  396.90    NaN  36.2  \n"
     ]
    }
   ],
   "source": [
    "df=pd.read_csv('./boston_house/HousingData.csv')\n",
    "print(df.head())"
   ]
  },
  {
   "cell_type": "code",
   "execution_count": 25,
   "id": "6ee8c5dc-003b-4c43-8382-f240c0139103",
   "metadata": {},
   "outputs": [],
   "source": [
    "df = df.dropna() "
   ]
  },
  {
   "cell_type": "code",
   "execution_count": 26,
   "id": "725dcea5-6855-4a7f-8940-a0a65f346579",
   "metadata": {},
   "outputs": [],
   "source": [
    "x=df.drop('MEDV',axis=1).values\n",
    "y = df['MEDV'].values.reshape(-1, 1) "
   ]
  },
  {
   "cell_type": "code",
   "execution_count": 38,
   "id": "1475f6d7-9fbe-4b0b-ac36-25d3932149c4",
   "metadata": {},
   "outputs": [],
   "source": [
    "ones = np.ones((x.shape[0], 1))      \n",
    "x_new = np.concatenate((ones, x), axis=1)"
   ]
  },
  {
   "cell_type": "code",
   "execution_count": 40,
   "id": "918394a4-2f63-4aa2-a10e-479195691fa4",
   "metadata": {},
   "outputs": [],
   "source": [
    "x_t = x_new.T\n",
    "xtx = x_t.dot(x_new)\n",
    "xtx_inv = np.linalg.inv(xtx)\n",
    "xty = x_t.dot(y)\n",
    "theta = xtx_inv.dot(xty)"
   ]
  },
  {
   "cell_type": "code",
   "execution_count": 41,
   "id": "b28ba71d-e53b-48dd-8243-9a2ad84db59c",
   "metadata": {},
   "outputs": [],
   "source": [
    "y_pred = X_new.dot(theta)\n"
   ]
  },
  {
   "cell_type": "code",
   "execution_count": 42,
   "id": "449fe585-dd27-41a5-99e0-4d0b6bfcbcdb",
   "metadata": {},
   "outputs": [
    {
     "name": "stdout",
     "output_type": "stream",
     "text": [
      "Mean Squared Error: 19.418397930734912\n"
     ]
    }
   ],
   "source": [
    "error = y - y_pred\n",
    "mse = np.mean(error ** 2)\n",
    "print(\"Mean Squared Error:\", mse)"
   ]
  },
  {
   "cell_type": "code",
   "execution_count": 31,
   "id": "a03729a4-4b77-443b-a90d-fb95b14e6346",
   "metadata": {},
   "outputs": [],
   "source": [
    "# DAY 14"
   ]
  },
  {
   "cell_type": "code",
   "execution_count": null,
   "id": "8dd1c815-c6f8-4ce8-a8a6-18955a8ab5fb",
   "metadata": {},
   "outputs": [],
   "source": [
    "# Load the CSV file into a DataFrame\n",
    "#  Print the dataset shape\n",
    "# Print unique species"
   ]
  },
  {
   "cell_type": "code",
   "execution_count": 34,
   "id": "afbae49a-47f2-4ce6-a285-2218cc250ee3",
   "metadata": {},
   "outputs": [
    {
     "data": {
      "text/plain": [
       "(394, 14)"
      ]
     },
     "execution_count": 34,
     "metadata": {},
     "output_type": "execute_result"
    }
   ],
   "source": [
    "df.shape"
   ]
  },
  {
   "cell_type": "code",
   "execution_count": 36,
   "id": "4dcece56-ba5f-4da2-b730-fd210231e8f9",
   "metadata": {},
   "outputs": [
    {
     "name": "stdout",
     "output_type": "stream",
     "text": [
      "No common Speices!\n"
     ]
    }
   ],
   "source": [
    "if 'species' in df.columns:\n",
    "    print(\"Unique Species are:\",df['species'].unique())\n",
    "else:\n",
    "    print(\"No common Speices!\")"
   ]
  },
  {
   "cell_type": "code",
   "execution_count": null,
   "id": "db156134-6ae8-4463-8fc2-d0077e98012e",
   "metadata": {},
   "outputs": [],
   "source": [
    "# DAY 15"
   ]
  },
  {
   "cell_type": "code",
   "execution_count": null,
   "id": "f5545f3d-960c-48be-847d-46183a1692a0",
   "metadata": {},
   "outputs": [],
   "source": []
  }
 ],
 "metadata": {
  "kernelspec": {
   "display_name": "Python [conda env:base] *",
   "language": "python",
   "name": "conda-base-py"
  },
  "language_info": {
   "codemirror_mode": {
    "name": "ipython",
    "version": 3
   },
   "file_extension": ".py",
   "mimetype": "text/x-python",
   "name": "python",
   "nbconvert_exporter": "python",
   "pygments_lexer": "ipython3",
   "version": "3.12.7"
  }
 },
 "nbformat": 4,
 "nbformat_minor": 5
}
