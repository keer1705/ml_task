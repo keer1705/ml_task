{
 "cells": [
  {
   "cell_type": "code",
   "execution_count": null,
   "id": "9a1c4f0d-e21d-4f70-8855-4ff215269099",
   "metadata": {},
   "outputs": [],
   "source": [
    "# DAY2"
   ]
  },
  {
   "cell_type": "code",
   "execution_count": null,
   "id": "3ce17cb7-890d-4e9b-b3a2-7c1fb68bf0b5",
   "metadata": {},
   "outputs": [],
   "source": [
    "# Generate summary statistics for each feature\n",
    "# Count the number of samples for each species\n",
    "# Filter rows where petal length is greater than 1.5\n",
    "#  Encode the species labels to numeric values\n",
    "# Create a new column called petal_ratio"
   ]
  },
  {
   "cell_type": "code",
   "execution_count": 24,
   "id": "5cd85311",
   "metadata": {
    "vscode": {
     "languageId": "plaintext"
    }
   },
   "outputs": [],
   "source": [
    "import pandas as pd\n",
    "from sklearn.preprocessing import LabelEncoder"
   ]
  },
  {
   "cell_type": "code",
   "execution_count": 4,
   "id": "580ce49b",
   "metadata": {
    "vscode": {
     "languageId": "plaintext"
    }
   },
   "outputs": [
    {
     "name": "stdout",
     "output_type": "stream",
     "text": [
      "   Id  SepalLengthCm  SepalWidthCm  PetalLengthCm  PetalWidthCm      Species\n",
      "0   1            5.1           3.5            1.4           0.2  Iris-setosa\n",
      "1   2            4.9           3.0            1.4           0.2  Iris-setosa\n",
      "2   3            4.7           3.2            1.3           0.2  Iris-setosa\n",
      "3   4            4.6           3.1            1.5           0.2  Iris-setosa\n",
      "4   5            5.0           3.6            1.4           0.2  Iris-setosa\n"
     ]
    }
   ],
   "source": [
    "df = pd.read_csv('../iris/iris.csv')\n",
    "print(df.head())"
   ]
  },
  {
   "cell_type": "code",
   "execution_count": 5,
   "id": "00185516-0ef8-4c87-b0a8-6652fa796c6d",
   "metadata": {},
   "outputs": [
    {
     "data": {
      "text/html": [
       "<div>\n",
       "<style scoped>\n",
       "    .dataframe tbody tr th:only-of-type {\n",
       "        vertical-align: middle;\n",
       "    }\n",
       "\n",
       "    .dataframe tbody tr th {\n",
       "        vertical-align: top;\n",
       "    }\n",
       "\n",
       "    .dataframe thead th {\n",
       "        text-align: right;\n",
       "    }\n",
       "</style>\n",
       "<table border=\"1\" class=\"dataframe\">\n",
       "  <thead>\n",
       "    <tr style=\"text-align: right;\">\n",
       "      <th></th>\n",
       "      <th>Id</th>\n",
       "      <th>SepalLengthCm</th>\n",
       "      <th>SepalWidthCm</th>\n",
       "      <th>PetalLengthCm</th>\n",
       "      <th>PetalWidthCm</th>\n",
       "    </tr>\n",
       "  </thead>\n",
       "  <tbody>\n",
       "    <tr>\n",
       "      <th>count</th>\n",
       "      <td>150.000000</td>\n",
       "      <td>150.000000</td>\n",
       "      <td>150.000000</td>\n",
       "      <td>150.000000</td>\n",
       "      <td>150.000000</td>\n",
       "    </tr>\n",
       "    <tr>\n",
       "      <th>mean</th>\n",
       "      <td>75.500000</td>\n",
       "      <td>5.843333</td>\n",
       "      <td>3.054000</td>\n",
       "      <td>3.758667</td>\n",
       "      <td>1.198667</td>\n",
       "    </tr>\n",
       "    <tr>\n",
       "      <th>std</th>\n",
       "      <td>43.445368</td>\n",
       "      <td>0.828066</td>\n",
       "      <td>0.433594</td>\n",
       "      <td>1.764420</td>\n",
       "      <td>0.763161</td>\n",
       "    </tr>\n",
       "    <tr>\n",
       "      <th>min</th>\n",
       "      <td>1.000000</td>\n",
       "      <td>4.300000</td>\n",
       "      <td>2.000000</td>\n",
       "      <td>1.000000</td>\n",
       "      <td>0.100000</td>\n",
       "    </tr>\n",
       "    <tr>\n",
       "      <th>25%</th>\n",
       "      <td>38.250000</td>\n",
       "      <td>5.100000</td>\n",
       "      <td>2.800000</td>\n",
       "      <td>1.600000</td>\n",
       "      <td>0.300000</td>\n",
       "    </tr>\n",
       "    <tr>\n",
       "      <th>50%</th>\n",
       "      <td>75.500000</td>\n",
       "      <td>5.800000</td>\n",
       "      <td>3.000000</td>\n",
       "      <td>4.350000</td>\n",
       "      <td>1.300000</td>\n",
       "    </tr>\n",
       "    <tr>\n",
       "      <th>75%</th>\n",
       "      <td>112.750000</td>\n",
       "      <td>6.400000</td>\n",
       "      <td>3.300000</td>\n",
       "      <td>5.100000</td>\n",
       "      <td>1.800000</td>\n",
       "    </tr>\n",
       "    <tr>\n",
       "      <th>max</th>\n",
       "      <td>150.000000</td>\n",
       "      <td>7.900000</td>\n",
       "      <td>4.400000</td>\n",
       "      <td>6.900000</td>\n",
       "      <td>2.500000</td>\n",
       "    </tr>\n",
       "  </tbody>\n",
       "</table>\n",
       "</div>"
      ],
      "text/plain": [
       "               Id  SepalLengthCm  SepalWidthCm  PetalLengthCm  PetalWidthCm\n",
       "count  150.000000     150.000000    150.000000     150.000000    150.000000\n",
       "mean    75.500000       5.843333      3.054000       3.758667      1.198667\n",
       "std     43.445368       0.828066      0.433594       1.764420      0.763161\n",
       "min      1.000000       4.300000      2.000000       1.000000      0.100000\n",
       "25%     38.250000       5.100000      2.800000       1.600000      0.300000\n",
       "50%     75.500000       5.800000      3.000000       4.350000      1.300000\n",
       "75%    112.750000       6.400000      3.300000       5.100000      1.800000\n",
       "max    150.000000       7.900000      4.400000       6.900000      2.500000"
      ]
     },
     "execution_count": 5,
     "metadata": {},
     "output_type": "execute_result"
    }
   ],
   "source": [
    "df.describe()"
   ]
  },
  {
   "cell_type": "code",
   "execution_count": 10,
   "id": "fdd9f3f5-4884-436e-b838-38cd44de2d5c",
   "metadata": {},
   "outputs": [
    {
     "name": "stdout",
     "output_type": "stream",
     "text": [
      "Series([], Name: count, dtype: int64)\n"
     ]
    }
   ],
   "source": [
    "spe=df['Species'].value_counts()\n",
    "print(spe)"
   ]
  },
  {
   "cell_type": "code",
   "execution_count": 23,
   "id": "f300f451-e805-4192-949c-388a5c9f3dfa",
   "metadata": {},
   "outputs": [
    {
     "name": "stdout",
     "output_type": "stream",
     "text": [
      "      Id  SepalLengthCm  SepalWidthCm  PetalLengthCm  PetalWidthCm  Species\n",
      "5      6            5.4           3.9            1.7           0.4      NaN\n",
      "11    12            4.8           3.4            1.6           0.2      NaN\n",
      "18    19            5.7           3.8            1.7           0.3      NaN\n",
      "20    21            5.4           3.4            1.7           0.2      NaN\n",
      "23    24            5.1           3.3            1.7           0.5      NaN\n",
      "..   ...            ...           ...            ...           ...      ...\n",
      "145  146            6.7           3.0            5.2           2.3      NaN\n",
      "146  147            6.3           2.5            5.0           1.9      NaN\n",
      "147  148            6.5           3.0            5.2           2.0      NaN\n",
      "148  149            6.2           3.4            5.4           2.3      NaN\n",
      "149  150            5.9           3.0            5.1           1.8      NaN\n",
      "\n",
      "[113 rows x 6 columns]\n"
     ]
    }
   ],
   "source": [
    "print(df[df['PetalLengthCm'] > 1.5])\n"
   ]
  },
  {
   "cell_type": "code",
   "execution_count": 28,
   "id": "983bcaae-6603-4d6f-ab9a-19cd46440e58",
   "metadata": {},
   "outputs": [
    {
     "name": "stdout",
     "output_type": "stream",
     "text": [
      "   Id  SepalLengthCm  SepalWidthCm  PetalLengthCm  PetalWidthCm  Species\n",
      "0   1            5.1           3.5            1.4           0.2        0\n",
      "1   2            4.9           3.0            1.4           0.2        0\n",
      "2   3            4.7           3.2            1.3           0.2        0\n",
      "3   4            4.6           3.1            1.5           0.2        0\n",
      "4   5            5.0           3.6            1.4           0.2        0\n"
     ]
    }
   ],
   "source": [
    "enc=LabelEncoder()\n",
    "df['Species']=enc.fit_transform(df['Species'])\n",
    "print(df.head())"
   ]
  },
  {
   "cell_type": "code",
   "execution_count": 34,
   "id": "51d0ab86-79a3-4835-8fa8-44a0599331d8",
   "metadata": {},
   "outputs": [
    {
     "name": "stdout",
     "output_type": "stream",
     "text": [
      "   Id  SepalLengthCm  SepalWidthCm  PetalLengthCm  PetalWidthCm  Species  \\\n",
      "0   1            5.1           3.5            1.4           0.2        0   \n",
      "1   2            4.9           3.0            1.4           0.2        0   \n",
      "2   3            4.7           3.2            1.3           0.2        0   \n",
      "3   4            4.6           3.1            1.5           0.2        0   \n",
      "4   5            5.0           3.6            1.4           0.2        0   \n",
      "\n",
      "   PetalRatio  \n",
      "0         7.0  \n",
      "1         7.0  \n",
      "2         6.5  \n",
      "3         7.5  \n",
      "4         7.0  \n"
     ]
    }
   ],
   "source": [
    "df['PetalRatio'] = df['PetalLengthCm'] / df['PetalWidthCm']\n",
    "# print(df['PetalRatio'].describe)\n",
    "print(df.head())"
   ]
  },
  {
   "cell_type": "code",
   "execution_count": null,
   "id": "cf3f072c-0b37-4b33-a1d6-b201b09e5867",
   "metadata": {},
   "outputs": [],
   "source": []
  }
 ],
 "metadata": {
  "kernelspec": {
   "display_name": "Python [conda env:base] *",
   "language": "python",
   "name": "conda-base-py"
  },
  "language_info": {
   "codemirror_mode": {
    "name": "ipython",
    "version": 3
   },
   "file_extension": ".py",
   "mimetype": "text/x-python",
   "name": "python",
   "nbconvert_exporter": "python",
   "pygments_lexer": "ipython3",
   "version": "3.12.7"
  }
 },
 "nbformat": 4,
 "nbformat_minor": 5
}
