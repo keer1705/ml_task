{
 "cells": [
  {
   "cell_type": "code",
   "execution_count": null,
   "id": "db936d1e",
   "metadata": {
    "vscode": {
     "languageId": "plaintext"
    }
   },
   "outputs": [],
   "source": [
    "# DAY 1"
   ]
  },
  {
   "cell_type": "code",
   "execution_count": null,
   "id": "d1e80970-2aee-4e53-95ec-57394045ee0d",
   "metadata": {},
   "outputs": [],
   "source": [
    "# write a python program to upload iris csv file and to display the rows and columns with Null values"
   ]
  },
  {
   "cell_type": "code",
   "execution_count": 1,
   "id": "cf2199e4",
   "metadata": {
    "vscode": {
     "languageId": "plaintext"
    }
   },
   "outputs": [],
   "source": [
    "import pandas as pd"
   ]
  },
  {
   "cell_type": "code",
   "execution_count": 2,
   "id": "cc776372-c290-4d57-b2c9-8f46038c2ecd",
   "metadata": {},
   "outputs": [
    {
     "name": "stdout",
     "output_type": "stream",
     "text": [
      "   Id  SepalLengthCm  SepalWidthCm  PetalLengthCm  PetalWidthCm      Species\n",
      "0   1            5.1           3.5            1.4           0.2  Iris-setosa\n",
      "1   2            4.9           3.0            1.4           0.2  Iris-setosa\n",
      "2   3            4.7           3.2            1.3           0.2  Iris-setosa\n",
      "3   4            4.6           3.1            1.5           0.2  Iris-setosa\n",
      "4   5            5.0           3.6            1.4           0.2  Iris-setosa\n"
     ]
    }
   ],
   "source": [
    "df = pd.read_csv('../iris/iris.csv')\n",
    "print(df.head())"
   ]
  },
  {
   "cell_type": "code",
   "execution_count": 5,
   "id": "5e2ab4e2-1221-45b3-b7a9-b81668ba025e",
   "metadata": {},
   "outputs": [
    {
     "name": "stdout",
     "output_type": "stream",
     "text": [
      "no null values!!\n"
     ]
    }
   ],
   "source": [
    "if df.isnull().values.any():\n",
    "    print(df[df.isnull()])\n",
    "else:\n",
    "    print(\"no null values!!\")"
   ]
  },
  {
   "cell_type": "code",
   "execution_count": null,
   "id": "55717b53-bd4d-43e5-b5c3-19875c943ac0",
   "metadata": {},
   "outputs": [],
   "source": []
  }
 ],
 "metadata": {
  "kernelspec": {
   "display_name": "Python [conda env:base] *",
   "language": "python",
   "name": "conda-base-py"
  },
  "language_info": {
   "codemirror_mode": {
    "name": "ipython",
    "version": 3
   },
   "file_extension": ".py",
   "mimetype": "text/x-python",
   "name": "python",
   "nbconvert_exporter": "python",
   "pygments_lexer": "ipython3",
   "version": "3.12.7"
  }
 },
 "nbformat": 4,
 "nbformat_minor": 5
}
