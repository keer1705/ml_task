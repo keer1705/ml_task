{
 "cells": [
  {
   "cell_type": "code",
   "execution_count": null,
   "id": "be9267ac-f60c-4e6f-9506-da8a6446f5e7",
   "metadata": {},
   "outputs": [],
   "source": [
    "# DAY 21"
   ]
  },
  {
   "cell_type": "code",
   "execution_count": null,
   "id": "e6467fb2-67c1-4b7d-bffb-06b2a58ba13c",
   "metadata": {},
   "outputs": [],
   "source": [
    "# implement Naive bayes classification without importing it"
   ]
  },
  {
   "cell_type": "code",
   "execution_count": 1,
   "id": "c002ba77-b006-4664-b36c-3b9addd6c8da",
   "metadata": {},
   "outputs": [],
   "source": [
    "import pandas as pd"
   ]
  },
  {
   "cell_type": "code",
   "execution_count": 2,
   "id": "ee7b7f4c-5cb5-4327-9d4a-5d2df8965772",
   "metadata": {},
   "outputs": [],
   "source": [
    "df=pd.read_csv('./boston_house2/BostonHousing.csv')"
   ]
  },
  {
   "cell_type": "code",
   "execution_count": 3,
   "id": "5bcbd0e7-57c9-4968-8b44-f9b4f46a3c7c",
   "metadata": {},
   "outputs": [],
   "source": [
    "def price_label(price):\n",
    "    if price <= 20:\n",
    "        return 'Low'\n",
    "    elif price <= 35:\n",
    "        return 'Medium'\n",
    "    else:\n",
    "        return 'High'\n",
    "\n",
    "df['PriceCategory'] = df['medv'].apply(price_label)"
   ]
  },
  {
   "cell_type": "code",
   "execution_count": 4,
   "id": "cd57d736-3315-49f5-a8ed-0b8c0cbe09bd",
   "metadata": {},
   "outputs": [],
   "source": [
    "X = df.drop(['medv', 'PriceCategory'], axis=1)\n",
    "y = df['PriceCategory']\n"
   ]
  },
  {
   "cell_type": "code",
   "execution_count": 5,
   "id": "dc18cf94-4a27-4bc5-bbf8-cf58f754d72d",
   "metadata": {},
   "outputs": [],
   "source": [
    "import numpy as np\n",
    "from sklearn.model_selection import train_test_split"
   ]
  },
  {
   "cell_type": "code",
   "execution_count": 6,
   "id": "03672ed9-b720-47e4-8be9-354d0c5b60a6",
   "metadata": {},
   "outputs": [],
   "source": [
    "X_train, X_test, y_train, y_test = train_test_split(X, y, test_size=0.2, random_state=42)\n"
   ]
  },
  {
   "cell_type": "code",
   "execution_count": 7,
   "id": "d8e5d947-cfdf-44dc-8068-fcd38ec9172d",
   "metadata": {},
   "outputs": [],
   "source": [
    "classes = ['Low', 'Medium', 'High']\n",
    "priors = {}\n",
    "for c in classes:\n",
    "    priors[c] = sum(y_train == c) / len(y_train)"
   ]
  },
  {
   "cell_type": "code",
   "execution_count": 8,
   "id": "76ab08a6-0d21-491a-9780-acd99d8d45b4",
   "metadata": {},
   "outputs": [],
   "source": [
    "means = {}\n",
    "variances = {}\n",
    "\n",
    "for c in classes:\n",
    "    data = X_train[y_train == c]\n",
    "    means[c] = data.mean()\n",
    "    variances[c] = data.var()"
   ]
  },
  {
   "cell_type": "code",
   "execution_count": 9,
   "id": "176fe090-274b-4968-b4bf-d43c1029b117",
   "metadata": {},
   "outputs": [],
   "source": [
    "def gaussian(x, mean, var):\n",
    "    return (1 / np.sqrt(2 * np.pi * var)) * np.exp(-((x - mean) ** 2) / (2 * var + 1e-6))"
   ]
  },
  {
   "cell_type": "code",
   "execution_count": null,
   "id": "0b8f513f-3554-4adc-b8c4-6053ab3f4b32",
   "metadata": {},
   "outputs": [],
   "source": [
    "predictions = []\n",
    "\n",
    "for i in range(len(X_test)):\n",
    "    row = X_test.iloc[i]\n",
    "    probs = {}\n",
    "\n",
    "    for c in classes:\n",
    "        total_prob = np.log(priors[c])  \n",
    "        for col in X.columns:\n",
    "            prob = gaussian(row[col], means[c][col], variances[c][col])\n",
    "            total_prob += np.log(prob + 1e-6)\n",
    "        probs[c] = total_prob\n",
    "    \n",
    "    predicted_class = max(probs, key=probs.get)\n",
    "    predictions.append(predicted_class)"
   ]
  },
  {
   "cell_type": "code",
   "execution_count": 11,
   "id": "97f6f2ff-7c32-4f87-8b73-1976761a4595",
   "metadata": {},
   "outputs": [
    {
     "name": "stdout",
     "output_type": "stream",
     "text": [
      "Accuracy: 0.7450980392156863\n"
     ]
    }
   ],
   "source": [
    "correct = 0\n",
    "for i in range(len(y_test)):\n",
    "    if predictions[i] == y_test.iloc[i]:\n",
    "        correct += 1\n",
    "\n",
    "accuracy = correct / len(y_test)\n",
    "print(\"Accuracy:\", accuracy)"
   ]
  },
  {
   "cell_type": "code",
   "execution_count": null,
   "id": "8796a0e1-30a4-46cf-8705-6462c92e6d16",
   "metadata": {},
   "outputs": [],
   "source": []
  }
 ],
 "metadata": {
  "kernelspec": {
   "display_name": "Python [conda env:base] *",
   "language": "python",
   "name": "conda-base-py"
  },
  "language_info": {
   "codemirror_mode": {
    "name": "ipython",
    "version": 3
   },
   "file_extension": ".py",
   "mimetype": "text/x-python",
   "name": "python",
   "nbconvert_exporter": "python",
   "pygments_lexer": "ipython3",
   "version": "3.12.7"
  }
 },
 "nbformat": 4,
 "nbformat_minor": 5
}
